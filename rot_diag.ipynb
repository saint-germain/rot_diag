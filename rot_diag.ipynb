{
  "nbformat": 4,
  "nbformat_minor": 0,
  "metadata": {
    "colab": {
      "provenance": []
    },
    "kernelspec": {
      "name": "python3",
      "display_name": "Python 3"
    },
    "language_info": {
      "name": "python"
    }
  },
  "cells": [
    {
      "cell_type": "code",
      "source": [
        "#G050.2213-00.6063\n",
        "#19:25:57.52 15:03:00.3\n",
        "#3.3 kpc\n",
        "#Band 6 ALMA\n",
        "#CH3OH (methanol)"
      ],
      "metadata": {
        "id": "igN4AaspXon8"
      },
      "execution_count": null,
      "outputs": []
    },
    {
      "cell_type": "code",
      "execution_count": null,
      "metadata": {
        "id": "STmz4ZtHW9tN"
      },
      "outputs": [],
      "source": [
        "# For Colab\n",
        "!pip install peakutils\n",
        "!pip install lineid_plot\n",
        "!pip install astroquery\n",
        "!pip install lmfit\n",
        "!wget https://github.com/saint-germain/rot_diag/raw/main/G050.2213-00.6063.csv"
      ]
    },
    {
      "cell_type": "code",
      "source": [
        "from astroquery.linelists.cdms import CDMS\n",
        "import astropy.units as u\n",
        "import astropy.constants as c\n",
        "import peakutils\n",
        "from peakutils.plot import plot as pplot\n",
        "import matplotlib.pyplot as plt\n",
        "import pandas as pd\n",
        "import lineid_plot\n",
        "from lmfit.models import GaussianModel\n",
        "import numpy as np\n",
        "from scipy.optimize import curve_fit"
      ],
      "metadata": {
        "id": "VCAusazHXw8c"
      },
      "execution_count": null,
      "outputs": []
    },
    {
      "cell_type": "code",
      "source": [
        "# search in CDMS database for plausible CH3OH lines in relevant range (see slides)\n",
        "min_frequency=241.67\n",
        "max_frequency=241.91\n",
        "response = CDMS.query_lines(min_frequency= min_frequency* u.GHz,\n",
        "                            max_frequency=max_frequency * u.GHz,\n",
        "                            molecule=\"032504 CH3OH, vt=0-2\",\n",
        "                            get_query_payload=False,temperature_for_intensity=0)"
      ],
      "metadata": {
        "id": "z3A68DSbX-ns"
      },
      "execution_count": null,
      "outputs": []
    },
    {
      "cell_type": "code",
      "source": [
        "line_wave=response['FREQ']/1e3 # MHz to GHz\n",
        "line_label=[str(i) for i in line_wave] # line label for plotting"
      ],
      "metadata": {
        "id": "-tNQFywIYWIR"
      },
      "execution_count": null,
      "outputs": []
    },
    {
      "cell_type": "code",
      "source": [
        "fname='G050.2213-00.6063.csv'\n",
        "df = pd.read_csv(fname)\n",
        "freq=df['Freq'] # in GHz\n",
        "i_nu=df['Intensity'] # in Jy sr^-1"
      ],
      "metadata": {
        "id": "sj5F39XhYabB"
      },
      "execution_count": null,
      "outputs": []
    },
    {
      "cell_type": "code",
      "source": [
        "# plot cropped spectrum + plausible line locations\n",
        "# peakutils is only used here as a visual aid\n",
        "\n",
        "filter=(freq>min_frequency)&(freq<max_frequency)\n",
        "freqn=freq[filter]\n",
        "i_nun=i_nu[filter]\n",
        "\n",
        "indices = peakutils.indexes(i_nun, thres=0.25, min_dist=0.1)  # indices are the \"peak\" positions\n",
        "fig, ax = plt.subplots(figsize=(20,10),dpi=150)\n",
        "\n",
        "pplot(freqn, i_nun, indices)\n",
        "ax.set_xlim(min_frequency,max_frequency)\n",
        "ax.set_ylim(-4e11,0.8e12)\n",
        "lineid_plot.plot_line_ids(freqn, i_nun, line_wave, line_label, ax=ax, arrow_tip=0, box_loc=-3e11, max_iter=300, label1_size=6) # locate theoretical lines from cdms query\n",
        "ax.set_xlabel('Frequency (GHz)')\n",
        "ax.set_ylabel('Intensity (Jy sr^-1)')"
      ],
      "metadata": {
        "id": "Ls95mFCdYftA"
      },
      "execution_count": null,
      "outputs": []
    },
    {
      "cell_type": "code",
      "source": [
        "# make a gaussian model for each plausible line using lmfit\n",
        "for i,j in zip(line_wave,range(len(line_wave))):\n",
        "  gausstemp=GaussianModel(prefix='g'+str(j)+'_')\n",
        "\n",
        "npeaks=len(line_wave)\n",
        "model=GaussianModel(prefix='g1_')\n",
        "for i in range(1,npeaks):\n",
        "  model=model+GaussianModel(prefix='g%d_' % (i+1))\n",
        "pars=model.make_params()\n",
        "for i,ff in zip(range(npeaks),line_wave):\n",
        "  pars['g%d_center' % (i+1)].set(value=ff,vary=False) # fix nu_ul\n",
        "  pars['g%d_sigma' % (i+1)].set(value=0.01, min=1e-3,max=0.02)\n",
        "  pars['g%d_amplitude' % (i+1)].set(value=0.01, min=0,max=5e14)"
      ],
      "metadata": {
        "id": "c8cUnKAAZdwl"
      },
      "execution_count": null,
      "outputs": []
    },
    {
      "cell_type": "code",
      "source": [
        "out=model.fit(i_nun,pars,x=freqn) # run fitting algorithm\n",
        "comps = out.eval_components(x=freqn) # fit results for each line"
      ],
      "metadata": {
        "id": "QJ8hGbBYah57"
      },
      "execution_count": null,
      "outputs": []
    },
    {
      "cell_type": "code",
      "source": [
        "# plot left: data,model,residuals\n",
        "# plot right: plot each line fit\n",
        "x=freqn\n",
        "y=i_nun\n",
        "\n",
        "fig, axes = plt.subplots(1, 2, figsize=(12.8, 4.8))\n",
        "axes[0].plot(x, y, 'b',label='Spectrum')\n",
        "axes[0].plot(x, out.best_fit, 'r-', label='Best fit')\n",
        "axes[0].plot(x, out.residual, 'k--', label='Residual')\n",
        "axes[0].legend(loc='best')\n",
        "axes[0].set_xlabel('Frequency (GHz)')\n",
        "axes[0].set_ylabel('Intensity (Jy sr^-1)')\n",
        "\n",
        "\n",
        "axes[1].plot(x, y, 'b',label='Spectrum')\n",
        "for i in range(npeaks):\n",
        "  axes[1].plot(x, comps['g%d_' % (i+1)], label='g'+str(i+1))\n",
        "\n",
        "axes[1].legend(loc='center left', bbox_to_anchor=(1,0.5))\n",
        "axes[1].set_xlabel('Frequency (GHz)')\n",
        "axes[1].set_ylabel('Intensity (Jy sr^-1)')\n",
        "\n",
        "plt.tight_layout()"
      ],
      "metadata": {
        "id": "RbAEzfiWanjD"
      },
      "execution_count": null,
      "outputs": []
    },
    {
      "cell_type": "code",
      "source": [
        "# save line parameters:\n",
        "# frequency, eup, aul, gup, i dnu integral\n",
        "# GHz, K, s^-1, N/A, Jy*sr^-1*GHz\n",
        "elo=response['ELO']*1.43*u.K*u.cm # cm**-1 to K\n",
        "etrans=line_wave*0.04799*u.K/u.MHz # GHz**-1 to K\n",
        "eup=elo+etrans\n",
        "\n",
        "Aul=10**response['LGAIJ']\n",
        "gup=response['GUP']\n",
        "\n",
        "dnu=freqn.iloc[1]-freqn.iloc[0]\n",
        "integ_txt=[np.trapz(comps['g%d_'%(i+1)],dx=dnu) for i in range(npeaks)]\n",
        "\n",
        "mydict={'Freq':line_wave,'Eup':eup,'Aul':Aul,'gup':gup,'I dv':integ_txt}\n",
        "df_txt = pd.DataFrame(mydict)\n",
        "df_txt.to_csv('line_parameters.csv', index=False)"
      ],
      "metadata": {
        "id": "ziWoloira1JK"
      },
      "execution_count": null,
      "outputs": []
    },
    {
      "cell_type": "code",
      "source": [
        "# GOAL A\n",
        "# use parameters to calculate N_u in cm^-2\n",
        "# make rotational diagram (log-log)\n",
        "# eup < 500 K; log(n_u/g_ul) > 26\n",
        "# fit straight line\n",
        "# use slope to calculate T in K, T ~ 15 K"
      ],
      "metadata": {
        "id": "-bllETY6c_LD"
      },
      "execution_count": null,
      "outputs": []
    },
    {
      "cell_type": "code",
      "source": [
        "# get partition function to obtain N_CH3OH\n",
        "result = CDMS.get_species_table()\n",
        "mol = result[result['tag'] == 32504]\n",
        "mol.pprint(max_width=160)"
      ],
      "metadata": {
        "id": "YYM_s7jtbcJY"
      },
      "execution_count": null,
      "outputs": []
    },
    {
      "cell_type": "code",
      "source": [
        "# fit interpolation function to partition function data\n",
        "# check that it's ok near T"
      ],
      "metadata": {
        "id": "f8NYjzGJbe9H"
      },
      "execution_count": null,
      "outputs": []
    },
    {
      "cell_type": "code",
      "source": [
        "# GOAL B\n",
        "# use interpolated partition function to calculate N_CH3OH ~ 1.5e15 cm^-2\n",
        "\n"
      ],
      "metadata": {
        "id": "A329vJSqemQy"
      },
      "execution_count": null,
      "outputs": []
    }
  ]
}