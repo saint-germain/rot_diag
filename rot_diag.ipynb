{
  "nbformat": 4,
  "nbformat_minor": 0,
  "metadata": {
    "colab": {
      "provenance": []
    },
    "kernelspec": {
      "name": "python3",
      "display_name": "Python 3"
    },
    "language_info": {
      "name": "python"
    }
  },
  "cells": [
    {
      "cell_type": "code",
      "execution_count": null,
      "metadata": {
        "id": "oYX5IYY0MCG5"
      },
      "outputs": [],
      "source": [
        "#G050.2213-00.6063\n",
        "#19:25:57.52 15:03:00.3\n",
        "#3.3 kpc\n",
        "#Band 6 ALMA\n",
        "#CH3OH (methanol)"
      ]
    },
    {
      "cell_type": "code",
      "source": [
        "# For Colab\n",
        "!pip install peakutils\n",
        "!pip install lineid_plot\n",
        "!pip install astroquery\n",
        "!pip install lmfit\n",
        "!wget https://github.com/saint-germain/rot_diag/raw/main/G050.2213-00.6063.csv"
      ],
      "metadata": {
        "id": "nXq1fNYtMD4_"
      },
      "execution_count": null,
      "outputs": []
    },
    {
      "cell_type": "code",
      "source": [
        "from astroquery.linelists.cdms import CDMS\n",
        "import astropy.units as u\n",
        "import astropy.constants as c\n",
        "import peakutils\n",
        "from peakutils.plot import plot as pplot\n",
        "import matplotlib.pyplot as plt\n",
        "import pandas as pd\n",
        "import lineid_plot\n",
        "from lmfit.models import GaussianModel\n",
        "import numpy as np\n",
        "from scipy.optimize import curve_fit"
      ],
      "metadata": {
        "id": "34zPsYAfMFS2"
      },
      "execution_count": null,
      "outputs": []
    },
    {
      "cell_type": "code",
      "source": [
        "# search in CDMS database for plausible CH3OH lines in relevant range (see slides)\n",
        "min_frequency=241.67\n",
        "max_frequency=241.91\n",
        "response = CDMS.query_lines(min_frequency= min_frequency* u.GHz,\n",
        "                            max_frequency=max_frequency * u.GHz,\n",
        "                            molecule=\"032504 CH3OH, vt=0-2\",\n",
        "                            get_query_payload=False,temperature_for_intensity=0)"
      ],
      "metadata": {
        "id": "7_UFoOCoMIkN"
      },
      "execution_count": null,
      "outputs": []
    },
    {
      "cell_type": "code",
      "source": [
        "response"
      ],
      "metadata": {
        "id": "r4YTymNaMgi7"
      },
      "execution_count": null,
      "outputs": []
    },
    {
      "cell_type": "code",
      "source": [
        "line_wave=response['FREQ']/1e3 # MHz to GHz\n",
        "line_label=[str(i) for i in line_wave] # line label for plotting"
      ],
      "metadata": {
        "id": "t3WJscNIMKy4"
      },
      "execution_count": null,
      "outputs": []
    },
    {
      "cell_type": "code",
      "source": [
        "fname='G050.2213-00.6063.csv'\n",
        "df = pd.read_csv(fname)\n",
        "freq=df['Freq'] # in GHz\n",
        "i_nu=df['Intensity'] # in Jy sr^-1"
      ],
      "metadata": {
        "id": "-vuc72M-MMfh"
      },
      "execution_count": null,
      "outputs": []
    },
    {
      "cell_type": "code",
      "source": [
        "# plot cropped spectrum + plausible line locations\n",
        "# peakutils is only used here as a visual aid\n",
        "\n",
        "filter=(freq>min_frequency)&(freq<max_frequency)\n",
        "freqn=freq[filter]\n",
        "i_nun=i_nu[filter]\n",
        "\n",
        "indices = peakutils.indexes(i_nun, thres=0.25, min_dist=0.1)  # indices are the \"peak\" positions\n",
        "fig, ax = plt.subplots(figsize=(20,10),dpi=150)\n",
        "\n",
        "pplot(freqn, i_nun, indices)\n",
        "ax.set_xlim(min_frequency,max_frequency)\n",
        "ax.set_ylim(-0.015e11,0.6e10)\n",
        "lineid_plot.plot_line_ids(freqn, i_nun, line_wave, line_label, ax=ax, arrow_tip=0, box_loc=-0.01e11, max_iter=300, label1_size=6) # locate theoretical lines from cdms query\n",
        "ax.set_xlabel('Frequency (GHz)')\n",
        "ax.set_ylabel('Intensity (Jy sr^-1)')"
      ],
      "metadata": {
        "id": "M3bBQkBrMPmu"
      },
      "execution_count": null,
      "outputs": []
    }
  ]
}